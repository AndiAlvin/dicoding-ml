{
 "cells": [
  {
   "cell_type": "code",
   "execution_count": 2,
   "id": "875a6620",
   "metadata": {},
   "outputs": [],
   "source": [
    "import pandas as pd\n",
    "import numpy as np"
   ]
  },
  {
   "cell_type": "code",
   "execution_count": 3,
   "id": "f9f6723d",
   "metadata": {},
   "outputs": [],
   "source": [
    "df = pd.read_csv('alldata_1_for_kaggle.csv', encoding='latin-1')"
   ]
  },
  {
   "cell_type": "code",
   "execution_count": 4,
   "id": "1662ac5e",
   "metadata": {},
   "outputs": [
    {
     "data": {
      "text/html": [
       "<div>\n",
       "<style scoped>\n",
       "    .dataframe tbody tr th:only-of-type {\n",
       "        vertical-align: middle;\n",
       "    }\n",
       "\n",
       "    .dataframe tbody tr th {\n",
       "        vertical-align: top;\n",
       "    }\n",
       "\n",
       "    .dataframe thead th {\n",
       "        text-align: right;\n",
       "    }\n",
       "</style>\n",
       "<table border=\"1\" class=\"dataframe\">\n",
       "  <thead>\n",
       "    <tr style=\"text-align: right;\">\n",
       "      <th></th>\n",
       "      <th>Unnamed: 0</th>\n",
       "      <th>0</th>\n",
       "      <th>a</th>\n",
       "    </tr>\n",
       "  </thead>\n",
       "  <tbody>\n",
       "    <tr>\n",
       "      <th>0</th>\n",
       "      <td>0</td>\n",
       "      <td>Thyroid_Cancer</td>\n",
       "      <td>Thyroid surgery in  children in a single insti...</td>\n",
       "    </tr>\n",
       "    <tr>\n",
       "      <th>1</th>\n",
       "      <td>1</td>\n",
       "      <td>Thyroid_Cancer</td>\n",
       "      <td>\" The adopted strategy was the same as that us...</td>\n",
       "    </tr>\n",
       "    <tr>\n",
       "      <th>2</th>\n",
       "      <td>2</td>\n",
       "      <td>Thyroid_Cancer</td>\n",
       "      <td>coronary arterybypass grafting thrombosis ï¬b...</td>\n",
       "    </tr>\n",
       "    <tr>\n",
       "      <th>3</th>\n",
       "      <td>3</td>\n",
       "      <td>Thyroid_Cancer</td>\n",
       "      <td>Solitary plasmacytoma SP of the skull is an u...</td>\n",
       "    </tr>\n",
       "    <tr>\n",
       "      <th>4</th>\n",
       "      <td>4</td>\n",
       "      <td>Thyroid_Cancer</td>\n",
       "      <td>This study aimed to investigate serum matrix ...</td>\n",
       "    </tr>\n",
       "  </tbody>\n",
       "</table>\n",
       "</div>"
      ],
      "text/plain": [
       "   Unnamed: 0               0  \\\n",
       "0           0  Thyroid_Cancer   \n",
       "1           1  Thyroid_Cancer   \n",
       "2           2  Thyroid_Cancer   \n",
       "3           3  Thyroid_Cancer   \n",
       "4           4  Thyroid_Cancer   \n",
       "\n",
       "                                                   a  \n",
       "0  Thyroid surgery in  children in a single insti...  \n",
       "1  \" The adopted strategy was the same as that us...  \n",
       "2  coronary arterybypass grafting thrombosis ï¬b...  \n",
       "3   Solitary plasmacytoma SP of the skull is an u...  \n",
       "4   This study aimed to investigate serum matrix ...  "
      ]
     },
     "execution_count": 4,
     "metadata": {},
     "output_type": "execute_result"
    }
   ],
   "source": [
    "df.head()"
   ]
  },
  {
   "cell_type": "code",
   "execution_count": 5,
   "id": "fa10c34c",
   "metadata": {},
   "outputs": [
    {
     "data": {
      "text/plain": [
       "array(['Thyroid_Cancer', 'Colon_Cancer', 'Lung_Cancer'], dtype=object)"
      ]
     },
     "execution_count": 5,
     "metadata": {},
     "output_type": "execute_result"
    }
   ],
   "source": [
    "df['0'].unique()\n"
   ]
  },
  {
   "cell_type": "code",
   "execution_count": 6,
   "id": "55d5882f",
   "metadata": {},
   "outputs": [],
   "source": [
    "df.columns = ['index', 'disease', 'text']\n"
   ]
  },
  {
   "cell_type": "code",
   "execution_count": 7,
   "id": "6d10d0b1",
   "metadata": {},
   "outputs": [
    {
     "data": {
      "text/html": [
       "<div>\n",
       "<style scoped>\n",
       "    .dataframe tbody tr th:only-of-type {\n",
       "        vertical-align: middle;\n",
       "    }\n",
       "\n",
       "    .dataframe tbody tr th {\n",
       "        vertical-align: top;\n",
       "    }\n",
       "\n",
       "    .dataframe thead th {\n",
       "        text-align: right;\n",
       "    }\n",
       "</style>\n",
       "<table border=\"1\" class=\"dataframe\">\n",
       "  <thead>\n",
       "    <tr style=\"text-align: right;\">\n",
       "      <th></th>\n",
       "      <th>index</th>\n",
       "      <th>disease</th>\n",
       "      <th>text</th>\n",
       "      <th>text_no_punc</th>\n",
       "    </tr>\n",
       "  </thead>\n",
       "  <tbody>\n",
       "    <tr>\n",
       "      <th>0</th>\n",
       "      <td>0</td>\n",
       "      <td>Thyroid_Cancer</td>\n",
       "      <td>Thyroid surgery in  children in a single insti...</td>\n",
       "      <td>Thyroid surgery in  children in a single insti...</td>\n",
       "    </tr>\n",
       "    <tr>\n",
       "      <th>1</th>\n",
       "      <td>1</td>\n",
       "      <td>Thyroid_Cancer</td>\n",
       "      <td>\" The adopted strategy was the same as that us...</td>\n",
       "      <td>The adopted strategy was the same as that use...</td>\n",
       "    </tr>\n",
       "    <tr>\n",
       "      <th>2</th>\n",
       "      <td>2</td>\n",
       "      <td>Thyroid_Cancer</td>\n",
       "      <td>coronary arterybypass grafting thrombosis ï¬b...</td>\n",
       "      <td>coronary arterybypass grafting thrombosis ï¬b...</td>\n",
       "    </tr>\n",
       "    <tr>\n",
       "      <th>3</th>\n",
       "      <td>3</td>\n",
       "      <td>Thyroid_Cancer</td>\n",
       "      <td>Solitary plasmacytoma SP of the skull is an u...</td>\n",
       "      <td>Solitary plasmacytoma SP of the skull is an u...</td>\n",
       "    </tr>\n",
       "    <tr>\n",
       "      <th>4</th>\n",
       "      <td>4</td>\n",
       "      <td>Thyroid_Cancer</td>\n",
       "      <td>This study aimed to investigate serum matrix ...</td>\n",
       "      <td>This study aimed to investigate serum matrix ...</td>\n",
       "    </tr>\n",
       "  </tbody>\n",
       "</table>\n",
       "</div>"
      ],
      "text/plain": [
       "   index         disease                                               text  \\\n",
       "0      0  Thyroid_Cancer  Thyroid surgery in  children in a single insti...   \n",
       "1      1  Thyroid_Cancer  \" The adopted strategy was the same as that us...   \n",
       "2      2  Thyroid_Cancer  coronary arterybypass grafting thrombosis ï¬b...   \n",
       "3      3  Thyroid_Cancer   Solitary plasmacytoma SP of the skull is an u...   \n",
       "4      4  Thyroid_Cancer   This study aimed to investigate serum matrix ...   \n",
       "\n",
       "                                        text_no_punc  \n",
       "0  Thyroid surgery in  children in a single insti...  \n",
       "1   The adopted strategy was the same as that use...  \n",
       "2  coronary arterybypass grafting thrombosis ï¬b...  \n",
       "3   Solitary plasmacytoma SP of the skull is an u...  \n",
       "4   This study aimed to investigate serum matrix ...  "
      ]
     },
     "execution_count": 7,
     "metadata": {},
     "output_type": "execute_result"
    }
   ],
   "source": [
    "import string\n",
    "\n",
    "def remove_punctuation(text):\n",
    "  no_punc = [word for word in text if word not in string.punctuation]\n",
    "  words_no_punc = ''.join(no_punc)\n",
    "  return words_no_punc\n",
    "\n",
    "df['text_no_punc'] = df['text'].apply(lambda x: remove_punctuation(x))\n",
    "df.head()"
   ]
  },
  {
   "cell_type": "code",
   "execution_count": 8,
   "id": "2e81a1a2",
   "metadata": {},
   "outputs": [
    {
     "data": {
      "text/html": [
       "<div>\n",
       "<style scoped>\n",
       "    .dataframe tbody tr th:only-of-type {\n",
       "        vertical-align: middle;\n",
       "    }\n",
       "\n",
       "    .dataframe tbody tr th {\n",
       "        vertical-align: top;\n",
       "    }\n",
       "\n",
       "    .dataframe thead th {\n",
       "        text-align: right;\n",
       "    }\n",
       "</style>\n",
       "<table border=\"1\" class=\"dataframe\">\n",
       "  <thead>\n",
       "    <tr style=\"text-align: right;\">\n",
       "      <th></th>\n",
       "      <th>index</th>\n",
       "      <th>disease</th>\n",
       "      <th>text</th>\n",
       "      <th>text_no_punc</th>\n",
       "      <th>text_no_punc_split</th>\n",
       "    </tr>\n",
       "  </thead>\n",
       "  <tbody>\n",
       "    <tr>\n",
       "      <th>0</th>\n",
       "      <td>0</td>\n",
       "      <td>Thyroid_Cancer</td>\n",
       "      <td>Thyroid surgery in  children in a single insti...</td>\n",
       "      <td>Thyroid surgery in  children in a single insti...</td>\n",
       "      <td>[thyroid, surgery, in, children, in, a, single...</td>\n",
       "    </tr>\n",
       "    <tr>\n",
       "      <th>1</th>\n",
       "      <td>1</td>\n",
       "      <td>Thyroid_Cancer</td>\n",
       "      <td>\" The adopted strategy was the same as that us...</td>\n",
       "      <td>The adopted strategy was the same as that use...</td>\n",
       "      <td>[, the, adopted, strategy, was, the, same, as,...</td>\n",
       "    </tr>\n",
       "    <tr>\n",
       "      <th>2</th>\n",
       "      <td>2</td>\n",
       "      <td>Thyroid_Cancer</td>\n",
       "      <td>coronary arterybypass grafting thrombosis ï¬b...</td>\n",
       "      <td>coronary arterybypass grafting thrombosis ï¬b...</td>\n",
       "      <td>[coronary, arterybypass, grafting, thrombosis,...</td>\n",
       "    </tr>\n",
       "    <tr>\n",
       "      <th>3</th>\n",
       "      <td>3</td>\n",
       "      <td>Thyroid_Cancer</td>\n",
       "      <td>Solitary plasmacytoma SP of the skull is an u...</td>\n",
       "      <td>Solitary plasmacytoma SP of the skull is an u...</td>\n",
       "      <td>[, solitary, plasmacytoma, sp, of, the, skull,...</td>\n",
       "    </tr>\n",
       "    <tr>\n",
       "      <th>4</th>\n",
       "      <td>4</td>\n",
       "      <td>Thyroid_Cancer</td>\n",
       "      <td>This study aimed to investigate serum matrix ...</td>\n",
       "      <td>This study aimed to investigate serum matrix ...</td>\n",
       "      <td>[, this, study, aimed, to, investigate, serum,...</td>\n",
       "    </tr>\n",
       "  </tbody>\n",
       "</table>\n",
       "</div>"
      ],
      "text/plain": [
       "   index         disease                                               text  \\\n",
       "0      0  Thyroid_Cancer  Thyroid surgery in  children in a single insti...   \n",
       "1      1  Thyroid_Cancer  \" The adopted strategy was the same as that us...   \n",
       "2      2  Thyroid_Cancer  coronary arterybypass grafting thrombosis ï¬b...   \n",
       "3      3  Thyroid_Cancer   Solitary plasmacytoma SP of the skull is an u...   \n",
       "4      4  Thyroid_Cancer   This study aimed to investigate serum matrix ...   \n",
       "\n",
       "                                        text_no_punc  \\\n",
       "0  Thyroid surgery in  children in a single insti...   \n",
       "1   The adopted strategy was the same as that use...   \n",
       "2  coronary arterybypass grafting thrombosis ï¬b...   \n",
       "3   Solitary plasmacytoma SP of the skull is an u...   \n",
       "4   This study aimed to investigate serum matrix ...   \n",
       "\n",
       "                                  text_no_punc_split  \n",
       "0  [thyroid, surgery, in, children, in, a, single...  \n",
       "1  [, the, adopted, strategy, was, the, same, as,...  \n",
       "2  [coronary, arterybypass, grafting, thrombosis,...  \n",
       "3  [, solitary, plasmacytoma, sp, of, the, skull,...  \n",
       "4  [, this, study, aimed, to, investigate, serum,...  "
      ]
     },
     "execution_count": 8,
     "metadata": {},
     "output_type": "execute_result"
    }
   ],
   "source": [
    "import re\n",
    "\n",
    "def tokenize(text):\n",
    "  split = re.split('\\W+', text)\n",
    "  return split\n",
    "\n",
    "df['text_no_punc_split'] = df['text_no_punc'].apply(lambda x: tokenize(x.lower()))\n",
    "df.head()"
   ]
  },
  {
   "cell_type": "code",
   "execution_count": 9,
   "id": "a6922eb8",
   "metadata": {},
   "outputs": [
    {
     "name": "stderr",
     "output_type": "stream",
     "text": [
      "[nltk_data] Downloading package stopwords to /Users/mac/nltk_data...\n",
      "[nltk_data]   Unzipping corpora/stopwords.zip.\n"
     ]
    },
    {
     "data": {
      "text/html": [
       "<div>\n",
       "<style scoped>\n",
       "    .dataframe tbody tr th:only-of-type {\n",
       "        vertical-align: middle;\n",
       "    }\n",
       "\n",
       "    .dataframe tbody tr th {\n",
       "        vertical-align: top;\n",
       "    }\n",
       "\n",
       "    .dataframe thead th {\n",
       "        text-align: right;\n",
       "    }\n",
       "</style>\n",
       "<table border=\"1\" class=\"dataframe\">\n",
       "  <thead>\n",
       "    <tr style=\"text-align: right;\">\n",
       "      <th></th>\n",
       "      <th>index</th>\n",
       "      <th>disease</th>\n",
       "      <th>text</th>\n",
       "      <th>text_no_punc</th>\n",
       "      <th>text_no_punc_split</th>\n",
       "      <th>text_no_punc_split_no_stw</th>\n",
       "    </tr>\n",
       "  </thead>\n",
       "  <tbody>\n",
       "    <tr>\n",
       "      <th>0</th>\n",
       "      <td>0</td>\n",
       "      <td>Thyroid_Cancer</td>\n",
       "      <td>Thyroid surgery in  children in a single insti...</td>\n",
       "      <td>Thyroid surgery in  children in a single insti...</td>\n",
       "      <td>[thyroid, surgery, in, children, in, a, single...</td>\n",
       "      <td>[thyroid, surgery, children, single, instituti...</td>\n",
       "    </tr>\n",
       "    <tr>\n",
       "      <th>1</th>\n",
       "      <td>1</td>\n",
       "      <td>Thyroid_Cancer</td>\n",
       "      <td>\" The adopted strategy was the same as that us...</td>\n",
       "      <td>The adopted strategy was the same as that use...</td>\n",
       "      <td>[, the, adopted, strategy, was, the, same, as,...</td>\n",
       "      <td>[, adopted, strategy, used, prior, years, base...</td>\n",
       "    </tr>\n",
       "    <tr>\n",
       "      <th>2</th>\n",
       "      <td>2</td>\n",
       "      <td>Thyroid_Cancer</td>\n",
       "      <td>coronary arterybypass grafting thrombosis ï¬b...</td>\n",
       "      <td>coronary arterybypass grafting thrombosis ï¬b...</td>\n",
       "      <td>[coronary, arterybypass, grafting, thrombosis,...</td>\n",
       "      <td>[coronary, arterybypass, grafting, thrombosis,...</td>\n",
       "    </tr>\n",
       "    <tr>\n",
       "      <th>3</th>\n",
       "      <td>3</td>\n",
       "      <td>Thyroid_Cancer</td>\n",
       "      <td>Solitary plasmacytoma SP of the skull is an u...</td>\n",
       "      <td>Solitary plasmacytoma SP of the skull is an u...</td>\n",
       "      <td>[, solitary, plasmacytoma, sp, of, the, skull,...</td>\n",
       "      <td>[, solitary, plasmacytoma, sp, skull, uncommon...</td>\n",
       "    </tr>\n",
       "    <tr>\n",
       "      <th>4</th>\n",
       "      <td>4</td>\n",
       "      <td>Thyroid_Cancer</td>\n",
       "      <td>This study aimed to investigate serum matrix ...</td>\n",
       "      <td>This study aimed to investigate serum matrix ...</td>\n",
       "      <td>[, this, study, aimed, to, investigate, serum,...</td>\n",
       "      <td>[, study, aimed, investigate, serum, matrix, m...</td>\n",
       "    </tr>\n",
       "  </tbody>\n",
       "</table>\n",
       "</div>"
      ],
      "text/plain": [
       "   index         disease                                               text  \\\n",
       "0      0  Thyroid_Cancer  Thyroid surgery in  children in a single insti...   \n",
       "1      1  Thyroid_Cancer  \" The adopted strategy was the same as that us...   \n",
       "2      2  Thyroid_Cancer  coronary arterybypass grafting thrombosis ï¬b...   \n",
       "3      3  Thyroid_Cancer   Solitary plasmacytoma SP of the skull is an u...   \n",
       "4      4  Thyroid_Cancer   This study aimed to investigate serum matrix ...   \n",
       "\n",
       "                                        text_no_punc  \\\n",
       "0  Thyroid surgery in  children in a single insti...   \n",
       "1   The adopted strategy was the same as that use...   \n",
       "2  coronary arterybypass grafting thrombosis ï¬b...   \n",
       "3   Solitary plasmacytoma SP of the skull is an u...   \n",
       "4   This study aimed to investigate serum matrix ...   \n",
       "\n",
       "                                  text_no_punc_split  \\\n",
       "0  [thyroid, surgery, in, children, in, a, single...   \n",
       "1  [, the, adopted, strategy, was, the, same, as,...   \n",
       "2  [coronary, arterybypass, grafting, thrombosis,...   \n",
       "3  [, solitary, plasmacytoma, sp, of, the, skull,...   \n",
       "4  [, this, study, aimed, to, investigate, serum,...   \n",
       "\n",
       "                           text_no_punc_split_no_stw  \n",
       "0  [thyroid, surgery, children, single, instituti...  \n",
       "1  [, adopted, strategy, used, prior, years, base...  \n",
       "2  [coronary, arterybypass, grafting, thrombosis,...  \n",
       "3  [, solitary, plasmacytoma, sp, skull, uncommon...  \n",
       "4  [, study, aimed, investigate, serum, matrix, m...  "
      ]
     },
     "execution_count": 9,
     "metadata": {},
     "output_type": "execute_result"
    }
   ],
   "source": [
    "import nltk\n",
    "\n",
    "#nltk.download('stopwords')\n",
    "\n",
    "stopword = nltk.corpus.stopwords.words('english')\n",
    "\n",
    "def remove_stopwords(text):\n",
    "  text = [word for word in text if word not in stopword]\n",
    "  return text\n",
    "\n",
    "df['text_no_punc_split_no_stw'] = df['text_no_punc_split'].apply(lambda x: remove_stopwords(x))\n",
    "df.head()"
   ]
  },
  {
   "cell_type": "code",
   "execution_count": 10,
   "id": "0973b75b",
   "metadata": {},
   "outputs": [
    {
     "name": "stderr",
     "output_type": "stream",
     "text": [
      "[nltk_data] Downloading package wordnet to /Users/mac/nltk_data...\n",
      "[nltk_data] Downloading package omw-1.4 to /Users/mac/nltk_data...\n"
     ]
    },
    {
     "data": {
      "text/html": [
       "<div>\n",
       "<style scoped>\n",
       "    .dataframe tbody tr th:only-of-type {\n",
       "        vertical-align: middle;\n",
       "    }\n",
       "\n",
       "    .dataframe tbody tr th {\n",
       "        vertical-align: top;\n",
       "    }\n",
       "\n",
       "    .dataframe thead th {\n",
       "        text-align: right;\n",
       "    }\n",
       "</style>\n",
       "<table border=\"1\" class=\"dataframe\">\n",
       "  <thead>\n",
       "    <tr style=\"text-align: right;\">\n",
       "      <th></th>\n",
       "      <th>index</th>\n",
       "      <th>disease</th>\n",
       "      <th>text</th>\n",
       "      <th>text_no_punc</th>\n",
       "      <th>text_no_punc_split</th>\n",
       "      <th>text_no_punc_split_no_stw</th>\n",
       "      <th>text_no_punc_split_no_stw_lemm</th>\n",
       "    </tr>\n",
       "  </thead>\n",
       "  <tbody>\n",
       "    <tr>\n",
       "      <th>0</th>\n",
       "      <td>0</td>\n",
       "      <td>Thyroid_Cancer</td>\n",
       "      <td>Thyroid surgery in  children in a single insti...</td>\n",
       "      <td>Thyroid surgery in  children in a single insti...</td>\n",
       "      <td>[thyroid, surgery, in, children, in, a, single...</td>\n",
       "      <td>[thyroid, surgery, children, single, instituti...</td>\n",
       "      <td>thyroid surgery child single institution osama...</td>\n",
       "    </tr>\n",
       "    <tr>\n",
       "      <th>1</th>\n",
       "      <td>1</td>\n",
       "      <td>Thyroid_Cancer</td>\n",
       "      <td>\" The adopted strategy was the same as that us...</td>\n",
       "      <td>The adopted strategy was the same as that use...</td>\n",
       "      <td>[, the, adopted, strategy, was, the, same, as,...</td>\n",
       "      <td>[, adopted, strategy, used, prior, years, base...</td>\n",
       "      <td>adopted strategy used prior year based four e...</td>\n",
       "    </tr>\n",
       "    <tr>\n",
       "      <th>2</th>\n",
       "      <td>2</td>\n",
       "      <td>Thyroid_Cancer</td>\n",
       "      <td>coronary arterybypass grafting thrombosis ï¬b...</td>\n",
       "      <td>coronary arterybypass grafting thrombosis ï¬b...</td>\n",
       "      <td>[coronary, arterybypass, grafting, thrombosis,...</td>\n",
       "      <td>[coronary, arterybypass, grafting, thrombosis,...</td>\n",
       "      <td>coronary arterybypass grafting thrombosis ï br...</td>\n",
       "    </tr>\n",
       "    <tr>\n",
       "      <th>3</th>\n",
       "      <td>3</td>\n",
       "      <td>Thyroid_Cancer</td>\n",
       "      <td>Solitary plasmacytoma SP of the skull is an u...</td>\n",
       "      <td>Solitary plasmacytoma SP of the skull is an u...</td>\n",
       "      <td>[, solitary, plasmacytoma, sp, of, the, skull,...</td>\n",
       "      <td>[, solitary, plasmacytoma, sp, skull, uncommon...</td>\n",
       "      <td>solitary plasmacytoma sp skull uncommon clini...</td>\n",
       "    </tr>\n",
       "    <tr>\n",
       "      <th>4</th>\n",
       "      <td>4</td>\n",
       "      <td>Thyroid_Cancer</td>\n",
       "      <td>This study aimed to investigate serum matrix ...</td>\n",
       "      <td>This study aimed to investigate serum matrix ...</td>\n",
       "      <td>[, this, study, aimed, to, investigate, serum,...</td>\n",
       "      <td>[, study, aimed, investigate, serum, matrix, m...</td>\n",
       "      <td>study aimed investigate serum matrix metallop...</td>\n",
       "    </tr>\n",
       "  </tbody>\n",
       "</table>\n",
       "</div>"
      ],
      "text/plain": [
       "   index         disease                                               text  \\\n",
       "0      0  Thyroid_Cancer  Thyroid surgery in  children in a single insti...   \n",
       "1      1  Thyroid_Cancer  \" The adopted strategy was the same as that us...   \n",
       "2      2  Thyroid_Cancer  coronary arterybypass grafting thrombosis ï¬b...   \n",
       "3      3  Thyroid_Cancer   Solitary plasmacytoma SP of the skull is an u...   \n",
       "4      4  Thyroid_Cancer   This study aimed to investigate serum matrix ...   \n",
       "\n",
       "                                        text_no_punc  \\\n",
       "0  Thyroid surgery in  children in a single insti...   \n",
       "1   The adopted strategy was the same as that use...   \n",
       "2  coronary arterybypass grafting thrombosis ï¬b...   \n",
       "3   Solitary plasmacytoma SP of the skull is an u...   \n",
       "4   This study aimed to investigate serum matrix ...   \n",
       "\n",
       "                                  text_no_punc_split  \\\n",
       "0  [thyroid, surgery, in, children, in, a, single...   \n",
       "1  [, the, adopted, strategy, was, the, same, as,...   \n",
       "2  [coronary, arterybypass, grafting, thrombosis,...   \n",
       "3  [, solitary, plasmacytoma, sp, of, the, skull,...   \n",
       "4  [, this, study, aimed, to, investigate, serum,...   \n",
       "\n",
       "                           text_no_punc_split_no_stw  \\\n",
       "0  [thyroid, surgery, children, single, instituti...   \n",
       "1  [, adopted, strategy, used, prior, years, base...   \n",
       "2  [coronary, arterybypass, grafting, thrombosis,...   \n",
       "3  [, solitary, plasmacytoma, sp, skull, uncommon...   \n",
       "4  [, study, aimed, investigate, serum, matrix, m...   \n",
       "\n",
       "                      text_no_punc_split_no_stw_lemm  \n",
       "0  thyroid surgery child single institution osama...  \n",
       "1   adopted strategy used prior year based four e...  \n",
       "2  coronary arterybypass grafting thrombosis ï br...  \n",
       "3   solitary plasmacytoma sp skull uncommon clini...  \n",
       "4   study aimed investigate serum matrix metallop...  "
      ]
     },
     "execution_count": 10,
     "metadata": {},
     "output_type": "execute_result"
    }
   ],
   "source": [
    "#nltk.download('wordnet')\n",
    "#nltk.download('omw-1.4')\n",
    "\n",
    "lematizer = nltk.stem.WordNetLemmatizer()\n",
    "\n",
    "def word_lemmatizer(text):\n",
    "  lemma_text = [lematizer.lemmatize(word) for word in text]\n",
    "  lemma_text_joined = ' '.join(lemma_text)\n",
    "  return lemma_text_joined\n",
    "\n",
    "df['text_no_punc_split_no_stw_lemm'] = df['text_no_punc_split_no_stw'].apply(lambda title: word_lemmatizer(title))\n",
    "df.head()"
   ]
  },
  {
   "cell_type": "code",
   "execution_count": 11,
   "id": "5058fa89",
   "metadata": {},
   "outputs": [
    {
     "data": {
      "text/plain": [
       "0"
      ]
     },
     "execution_count": 11,
     "metadata": {},
     "output_type": "execute_result"
    }
   ],
   "source": [
    "df.disease.isna().sum()"
   ]
  },
  {
   "cell_type": "code",
   "execution_count": 12,
   "id": "cd839999",
   "metadata": {},
   "outputs": [
    {
     "data": {
      "text/html": [
       "<div>\n",
       "<style scoped>\n",
       "    .dataframe tbody tr th:only-of-type {\n",
       "        vertical-align: middle;\n",
       "    }\n",
       "\n",
       "    .dataframe tbody tr th {\n",
       "        vertical-align: top;\n",
       "    }\n",
       "\n",
       "    .dataframe thead th {\n",
       "        text-align: right;\n",
       "    }\n",
       "</style>\n",
       "<table border=\"1\" class=\"dataframe\">\n",
       "  <thead>\n",
       "    <tr style=\"text-align: right;\">\n",
       "      <th></th>\n",
       "      <th>text_no_punc_split_no_stw_lemm</th>\n",
       "      <th>Colon_Cancer</th>\n",
       "      <th>Lung_Cancer</th>\n",
       "      <th>Thyroid_Cancer</th>\n",
       "    </tr>\n",
       "  </thead>\n",
       "  <tbody>\n",
       "    <tr>\n",
       "      <th>0</th>\n",
       "      <td>thyroid surgery child single institution osama...</td>\n",
       "      <td>0</td>\n",
       "      <td>0</td>\n",
       "      <td>1</td>\n",
       "    </tr>\n",
       "    <tr>\n",
       "      <th>1</th>\n",
       "      <td>adopted strategy used prior year based four e...</td>\n",
       "      <td>0</td>\n",
       "      <td>0</td>\n",
       "      <td>1</td>\n",
       "    </tr>\n",
       "    <tr>\n",
       "      <th>2</th>\n",
       "      <td>coronary arterybypass grafting thrombosis ï br...</td>\n",
       "      <td>0</td>\n",
       "      <td>0</td>\n",
       "      <td>1</td>\n",
       "    </tr>\n",
       "    <tr>\n",
       "      <th>3</th>\n",
       "      <td>solitary plasmacytoma sp skull uncommon clini...</td>\n",
       "      <td>0</td>\n",
       "      <td>0</td>\n",
       "      <td>1</td>\n",
       "    </tr>\n",
       "    <tr>\n",
       "      <th>4</th>\n",
       "      <td>study aimed investigate serum matrix metallop...</td>\n",
       "      <td>0</td>\n",
       "      <td>0</td>\n",
       "      <td>1</td>\n",
       "    </tr>\n",
       "  </tbody>\n",
       "</table>\n",
       "</div>"
      ],
      "text/plain": [
       "                      text_no_punc_split_no_stw_lemm  Colon_Cancer  \\\n",
       "0  thyroid surgery child single institution osama...             0   \n",
       "1   adopted strategy used prior year based four e...             0   \n",
       "2  coronary arterybypass grafting thrombosis ï br...             0   \n",
       "3   solitary plasmacytoma sp skull uncommon clini...             0   \n",
       "4   study aimed investigate serum matrix metallop...             0   \n",
       "\n",
       "   Lung_Cancer  Thyroid_Cancer  \n",
       "0            0               1  \n",
       "1            0               1  \n",
       "2            0               1  \n",
       "3            0               1  \n",
       "4            0               1  "
      ]
     },
     "execution_count": 12,
     "metadata": {},
     "output_type": "execute_result"
    }
   ],
   "source": [
    "disease = pd.get_dummies(df.disease)\n",
    "df = pd.concat([df, disease], axis=1)\n",
    "df = df.drop(columns=['index', 'disease', 'text', 'text_no_punc', 'text_no_punc_split', 'text_no_punc_split_no_stw'])\n",
    "df.head()"
   ]
  },
  {
   "cell_type": "code",
   "execution_count": 14,
   "id": "a2ed82ee",
   "metadata": {},
   "outputs": [],
   "source": [
    "text = df['text_no_punc_split_no_stw_lemm'].values\n",
    "label = df[['Colon_Cancer', 'Lung_Cancer', 'Thyroid_Cancer']].values"
   ]
  },
  {
   "cell_type": "markdown",
   "id": "f7cddf47",
   "metadata": {},
   "source": [
    "### Split data"
   ]
  },
  {
   "cell_type": "code",
   "execution_count": 16,
   "id": "de46cd4d",
   "metadata": {},
   "outputs": [],
   "source": [
    "from sklearn.model_selection import train_test_split\n",
    "text_train, text_test, label_train, label_test = train_test_split(text, label, test_size=0.2)"
   ]
  },
  {
   "cell_type": "markdown",
   "id": "b53b41e2",
   "metadata": {},
   "source": [
    "## Model"
   ]
  },
  {
   "cell_type": "code",
   "execution_count": 18,
   "id": "1b87f5a3",
   "metadata": {},
   "outputs": [],
   "source": [
    "from tensorflow.keras.preprocessing.text import Tokenizer\n",
    "from tensorflow.keras.preprocessing.sequence import pad_sequences\n",
    " \n",
    "tokenizer = Tokenizer(num_words=5000, oov_token='-')\n",
    "tokenizer.fit_on_texts(text_train) \n",
    "tokenizer.fit_on_texts(text_test)\n",
    " \n",
    "train_seq = tokenizer.texts_to_sequences(text_train)\n",
    "test_seq = tokenizer.texts_to_sequences(text_test)\n",
    " \n",
    "padded_train = pad_sequences(train_seq)\n",
    "padded_test = pad_sequences(test_seq)"
   ]
  },
  {
   "cell_type": "code",
   "execution_count": 19,
   "id": "20ebedbf",
   "metadata": {},
   "outputs": [],
   "source": [
    "import tensorflow as tf\n",
    "\n",
    "model = tf.keras.Sequential([\n",
    "    tf.keras.layers.Embedding(input_dim=5000, output_dim=16),\n",
    "    tf.keras.layers.LSTM(64),\n",
    "    tf.keras.layers.Dense(128, activation='relu'),\n",
    "    tf.keras.layers.Dense(64, activation='relu'),\n",
    "    tf.keras.layers.Dense(3, activation='softmax')\n",
    "])\n",
    "\n",
    "model.compile(loss='categorical_crossentropy', optimizer='adam', metrics=['accuracy'])"
   ]
  },
  {
   "cell_type": "code",
   "execution_count": 20,
   "id": "8eef942b",
   "metadata": {},
   "outputs": [
    {
     "name": "stdout",
     "output_type": "stream",
     "text": [
      "Model: \"sequential\"\n",
      "_________________________________________________________________\n",
      " Layer (type)                Output Shape              Param #   \n",
      "=================================================================\n",
      " embedding (Embedding)       (None, None, 16)          80000     \n",
      "                                                                 \n",
      " lstm (LSTM)                 (None, 64)                20736     \n",
      "                                                                 \n",
      " dense (Dense)               (None, 128)               8320      \n",
      "                                                                 \n",
      " dense_1 (Dense)             (None, 64)                8256      \n",
      "                                                                 \n",
      " dense_2 (Dense)             (None, 3)                 195       \n",
      "                                                                 \n",
      "=================================================================\n",
      "Total params: 117,507\n",
      "Trainable params: 117,507\n",
      "Non-trainable params: 0\n",
      "_________________________________________________________________\n"
     ]
    }
   ],
   "source": [
    "model.summary()"
   ]
  },
  {
   "cell_type": "code",
   "execution_count": 21,
   "id": "8672d365",
   "metadata": {},
   "outputs": [],
   "source": [
    "acc_thres = 0.99\n",
    "\n",
    "class customCallback(tf.keras.callbacks.Callback): \n",
    "  def on_epoch_end(self, epoch, logs={}): \n",
    "    if(logs.get('accuracy') > acc_thres and logs.get('val_accuracy') > acc_thres):   \n",
    "      print(\"\\nReached %2.2f%% accuracy, stopping training . . .\" %(acc_thres*100))   \n",
    "      self.model.stop_training = True\n",
    "\n",
    "callbacks = customCallback()"
   ]
  },
  {
   "cell_type": "markdown",
   "id": "43c0194d",
   "metadata": {},
   "source": [
    "### train model\n"
   ]
  },
  {
   "cell_type": "code",
   "execution_count": 24,
   "id": "031ab15f",
   "metadata": {},
   "outputs": [
    {
     "name": "stdout",
     "output_type": "stream",
     "text": [
      "Epoch 1/2\n",
      "190/190 [==============================] - 589s 3s/step - loss: 0.0366 - accuracy: 0.9840 - val_loss: 0.0388 - val_accuracy: 0.9822\n",
      "Epoch 2/2\n",
      "190/190 [==============================] - 1638s 9s/step - loss: 0.0278 - accuracy: 0.9860 - val_loss: 0.0312 - val_accuracy: 0.9815\n"
     ]
    }
   ],
   "source": [
    "history = model.fit(\n",
    "    padded_train, \n",
    "    label_train, \n",
    "    epochs=2, \n",
    "    validation_data=(padded_test, label_test), \n",
    "    callbacks=[callbacks]\n",
    "    )"
   ]
  },
  {
   "cell_type": "code",
   "execution_count": 26,
   "id": "af52706a",
   "metadata": {},
   "outputs": [],
   "source": [
    "import matplotlib.pyplot as plt\n",
    "\n",
    "def plot_metric(history, metric):\n",
    "  train_metrics = history.history[metric]\n",
    "  val_metrics = history.history['val_' + metric]\n",
    "  epochs = range(1, len(train_metrics) + 1)\n",
    "  plt.rcParams[\"figure.figsize\"] = (6,8)\n",
    "  plt.plot(epochs, train_metrics)\n",
    "  plt.plot(epochs, val_metrics)\n",
    "  plt.title('Training and Validation ' + metric)\n",
    "  plt.xlabel(\"Epochs\")\n",
    "  plt.ylabel(metric)\n",
    "  plt.legend([\"train_\" + metric, 'val_' + metric], loc=\"best\")\n",
    "  plt.show()"
   ]
  },
  {
   "cell_type": "code",
   "execution_count": 27,
   "id": "a45c118f",
   "metadata": {},
   "outputs": [
    {
     "data": {
      "image/png": "[encoded data removed]",
      "text/plain": [
       "<Figure size 600x800 with 1 Axes>"
      ]
     },
     "metadata": {},
     "output_type": "display_data"
    }
   ],
   "source": [
    "plot_metric(history, 'loss')"
   ]
  },
  {
   "cell_type": "code",
   "execution_count": 28,
   "id": "b0a8ab12",
   "metadata": {},
   "outputs": [
    {
     "data": {
      "image/png": "[encoded data removed]",
      "text/plain": [
       "<Figure size 600x800 with 1 Axes>"
      ]
     },
     "metadata": {},
     "output_type": "display_data"
    }
   ],
   "source": [
    "plot_metric(history, 'accuracy')"
   ]
  }
 ],
 "metadata": {
  "kernelspec": {
   "display_name": "Python 3.9.13 ('codevin')",
   "language": "python",
   "name": "python3"
  },
  "language_info": {
   "codemirror_mode": {
    "name": "ipython",
    "version": 3
   },
   "file_extension": ".py",
   "mimetype": "text/x-python",
   "name": "python",
   "nbconvert_exporter": "python",
   "pygments_lexer": "ipython3",
   "version": "3.9.13"
  },
  "vscode": {
   "interpreter": {
    "hash": "e35cb78c677bbbd5aeae0fc206d981d0dc5168f175bad5d1fe5eb907aff5bb56"
   }
  }
 },
 "nbformat": 4,
 "nbformat_minor": 5
}
